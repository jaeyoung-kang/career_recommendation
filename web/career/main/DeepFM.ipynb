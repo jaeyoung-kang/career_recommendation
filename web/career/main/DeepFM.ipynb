{
 "cells": [
  {
   "cell_type": "code",
   "execution_count": null,
   "metadata": {},
   "outputs": [],
   "source": [
    "# !pip install -U deepctr-torch\n",
    "# !git clone https://github.com/jaeyoung-kang/career_recommendation.git\n",
    "\n",
    "# import sys\n",
    "# sys.path.append('./career_recommendation')"
   ]
  },
  {
   "cell_type": "code",
   "execution_count": null,
   "metadata": {},
   "outputs": [],
   "source": [
    "import sys\n",
    "sys.path.append('..')"
   ]
  },
  {
   "cell_type": "code",
   "execution_count": null,
   "metadata": {
    "scrolled": true
   },
   "outputs": [],
   "source": [
    "import numpy as np\n",
    "import pandas as pd\n",
    "import random\n",
    "from sklearn.metrics import confusion_matrix\n",
    "\n",
    "from src.model import DeepFMTrainer\n",
    "from src.dataset.augmentation import make_binary_target\n",
    "\n",
    "pd.set_option('display.max_columns', None)\n",
    "pd.options.display.max_colwidth = 500"
   ]
  },
  {
   "cell_type": "code",
   "execution_count": null,
   "metadata": {},
   "outputs": [],
   "source": [
    "data_path = '/Users/m/localspace/career_recommendation/data/merge_data.csv'\n",
    "epochs = 3\n",
    "target_col = 'career_task'"
   ]
  },
  {
   "cell_type": "code",
   "execution_count": null,
   "metadata": {},
   "outputs": [],
   "source": [
    "deepfm_target = ['label']\n",
    "\n",
    "variable_length_sparse_features = [\n",
    "    \"school_major_name\", 'skill',\n",
    "]\n",
    "\n",
    "sparse_features = [\n",
    "    'career_turn', 'career_sum_period',\n",
    "    'school_major_state',# 'school_name', \n",
    "    'school_major_level',  'school_state',\n",
    "    '기타', '독일어', '러시아어', '베트남어', '에스파냐어', \n",
    "    '영어', '인도네시아어', '일본어', '중국어', '프랑스어', \n",
    "    'accum_count', 'career_task', 'enterprise_size'\n",
    "]\n"
   ]
  },
  {
   "cell_type": "markdown",
   "metadata": {},
   "source": [
    "# Data Load"
   ]
  },
  {
   "cell_type": "code",
   "execution_count": null,
   "metadata": {},
   "outputs": [],
   "source": [
    "data = pd.read_csv(data_path).sort_values('id')"
   ]
  },
  {
   "cell_type": "markdown",
   "metadata": {},
   "source": [
    "# 추가 전처리"
   ]
  },
  {
   "cell_type": "markdown",
   "metadata": {},
   "source": [
    "## enterprise_size"
   ]
  },
  {
   "cell_type": "code",
   "execution_count": null,
   "metadata": {},
   "outputs": [],
   "source": [
    "data.loc[(data['career_가입자수'].isna()) & (~data['career_name'].isna()), 'enterprise_size'] = '스타트업'\n",
    "data.loc[data['career_가입자수'] > 1000, 'enterprise_size'] = '대기업'\n",
    "data.loc[(data['career_가입자수'] <= 1000) & (~data['career_name'].isna()), 'enterprise_size'] = '중소기업'\n"
   ]
  },
  {
   "cell_type": "markdown",
   "metadata": {},
   "source": [
    "## accum_count : 누적 award 수"
   ]
  },
  {
   "cell_type": "code",
   "execution_count": null,
   "metadata": {},
   "outputs": [],
   "source": [
    "data['accum_count'] = data['accum_count'].fillna(0)"
   ]
  },
  {
   "cell_type": "code",
   "execution_count": null,
   "metadata": {},
   "outputs": [],
   "source": [
    "data = data.drop_duplicates(subset=['id', 'career_name', 'field', 'career_task'], keep='last')"
   ]
  },
  {
   "cell_type": "markdown",
   "metadata": {},
   "source": [
    "## 빈 career task <- field 대체"
   ]
  },
  {
   "cell_type": "code",
   "execution_count": null,
   "metadata": {},
   "outputs": [],
   "source": [
    "data.loc[data['career_task'].isna(), 'career_task'] = data.loc[data['career_task'].isna(), 'field'] "
   ]
  },
  {
   "cell_type": "markdown",
   "metadata": {},
   "source": [
    "## duplicated"
   ]
  },
  {
   "cell_type": "code",
   "execution_count": null,
   "metadata": {},
   "outputs": [],
   "source": [
    "data = data.drop_duplicates(subset=sparse_features + variable_length_sparse_features)"
   ]
  },
  {
   "cell_type": "markdown",
   "metadata": {},
   "source": [
    "# Data Split"
   ]
  },
  {
   "cell_type": "code",
   "execution_count": null,
   "metadata": {},
   "outputs": [],
   "source": [
    "test_id = pd.read_pickle('/Users/m/Downloads/test_id.pkl')"
   ]
  },
  {
   "cell_type": "code",
   "execution_count": null,
   "metadata": {},
   "outputs": [],
   "source": [
    "train_data = data.loc[~data['id'].isin(test_id)].sort_index()\n",
    "test_data = data.loc[data['id'].isin(test_id)].sort_index()"
   ]
  },
  {
   "cell_type": "markdown",
   "metadata": {},
   "source": [
    "# Data Preprocessing"
   ]
  },
  {
   "cell_type": "code",
   "execution_count": null,
   "metadata": {},
   "outputs": [],
   "source": [
    "def preproc(\n",
    "    data,\n",
    "    target_col,\n",
    "    positive_ratio=0.5\n",
    "):\n",
    "    data = data.copy()\n",
    "    data[target_col] = data[target_col].fillna('')\n",
    "    data[target_col] = data[target_col].str.strip() # naive preprocessing\n",
    "    data = make_binary_target(\n",
    "        data, \n",
    "        target_col, \n",
    "        positive_ratio=positive_ratio,\n",
    "    )\n",
    "\n",
    "    data = make_binary_target(\n",
    "        data,\n",
    "        target_col='enterprise_size',\n",
    "        target_lst=['대기업', '중소기업', '스타트업'],\n",
    "        positive_ratio=positive_ratio,\n",
    "    ).drop_duplicates()\n",
    "\n",
    "    data['label'] = data['career_task_label'] * data['enterprise_size_label']\n",
    "#     data = data.drop(['career_task_label', 'enterprise_size_label'], axis=1)\n",
    "\n",
    "    for col in variable_length_sparse_features:\n",
    "        data[col] = data[col].str.split(',')\n",
    "\n",
    "    data = data.reset_index(drop=True)\n",
    "    return data"
   ]
  },
  {
   "cell_type": "code",
   "execution_count": null,
   "metadata": {},
   "outputs": [],
   "source": []
  },
  {
   "cell_type": "code",
   "execution_count": null,
   "metadata": {},
   "outputs": [],
   "source": [
    "train_data = preproc(\n",
    "    train_data,\n",
    "    target_col=target_col,\n",
    ")\n",
    "\n",
    "test_data = preproc(\n",
    "    test_data,\n",
    "    target_col=target_col,\n",
    "    positive_ratio=0,\n",
    ")"
   ]
  },
  {
   "cell_type": "code",
   "execution_count": null,
   "metadata": {
    "scrolled": true
   },
   "outputs": [],
   "source": [
    "train_data.loc[:, sparse_features]"
   ]
  },
  {
   "cell_type": "code",
   "execution_count": null,
   "metadata": {},
   "outputs": [],
   "source": [
    "train_data['skill']"
   ]
  },
  {
   "cell_type": "markdown",
   "metadata": {},
   "source": [
    "## balanced train data"
   ]
  },
  {
   "cell_type": "code",
   "execution_count": null,
   "metadata": {},
   "outputs": [],
   "source": [
    "train_data.shape"
   ]
  },
  {
   "cell_type": "code",
   "execution_count": null,
   "metadata": {},
   "outputs": [],
   "source": [
    "n_count = (train_data['label'] == 1).sum()\n",
    "negative_index = np.random.choice(train_data[train_data['label'] == 0].index, n_count)\n",
    "positive_index = train_data[train_data['label'] == 1].index\n",
    "train_data = train_data.loc[np.concatenate([positive_index, negative_index])]\n"
   ]
  },
  {
   "cell_type": "code",
   "execution_count": null,
   "metadata": {},
   "outputs": [],
   "source": [
    "train_data.shape"
   ]
  },
  {
   "cell_type": "markdown",
   "metadata": {},
   "source": [
    "# Trainer"
   ]
  },
  {
   "cell_type": "code",
   "execution_count": null,
   "metadata": {},
   "outputs": [],
   "source": [
    "deepfm = DeepFMTrainer(\n",
    "    target=deepfm_target,\n",
    "    sparse_features=sparse_features,\n",
    "    variable_length_features=variable_length_sparse_features,\n",
    ")"
   ]
  },
  {
   "cell_type": "markdown",
   "metadata": {},
   "source": [
    "# Fit"
   ]
  },
  {
   "cell_type": "code",
   "execution_count": null,
   "metadata": {},
   "outputs": [],
   "source": [
    "deepfm.fit(\n",
    "    train_data, \n",
    "    epochs=10#epochs,\n",
    ")"
   ]
  },
  {
   "cell_type": "markdown",
   "metadata": {},
   "source": [
    "# Predict"
   ]
  },
  {
   "cell_type": "code",
   "execution_count": null,
   "metadata": {},
   "outputs": [],
   "source": [
    "predict = deepfm.predict(\n",
    "    test_data,\n",
    ")"
   ]
  },
  {
   "cell_type": "code",
   "execution_count": null,
   "metadata": {},
   "outputs": [],
   "source": [
    "test_data['predict'] = predict"
   ]
  },
  {
   "cell_type": "code",
   "execution_count": null,
   "metadata": {
    "scrolled": true
   },
   "outputs": [],
   "source": [
    "# test_data.iloc[:50].loc[:, sparse_features+variable_length_sparse_features+['predict', 'label']]"
   ]
  },
  {
   "cell_type": "markdown",
   "metadata": {},
   "source": [
    "## Evaluate"
   ]
  },
  {
   "cell_type": "code",
   "execution_count": null,
   "metadata": {},
   "outputs": [],
   "source": []
  },
  {
   "cell_type": "code",
   "execution_count": null,
   "metadata": {},
   "outputs": [],
   "source": [
    "predict_data = test_data.drop_duplicates(subset=['id', 'career_task', 'enterprise_size'], keep='last')\n"
   ]
  },
  {
   "cell_type": "code",
   "execution_count": null,
   "metadata": {},
   "outputs": [],
   "source": [
    "# id별로 predict 값이 가장 큰 index \n",
    "predict_data = predict_data.loc[\n",
    "    predict_data.groupby('id')['predict'].nlargest(5).reset_index()['level_1'].tolist(),\n",
    "#     sparse_features + variable_length_sparse_features+['id', 'label', 'predict'],\n",
    "]"
   ]
  },
  {
   "cell_type": "code",
   "execution_count": null,
   "metadata": {},
   "outputs": [],
   "source": [
    "predict_data = predict_data.sample(frac=1).reset_index(drop=True)x"
   ]
  },
  {
   "cell_type": "code",
   "execution_count": null,
   "metadata": {},
   "outputs": [],
   "source": []
  },
  {
   "cell_type": "code",
   "execution_count": null,
   "metadata": {
    "scrolled": false
   },
   "outputs": [],
   "source": [
    "predict_data = predict_data.loc[predict_data.groupby('id')['label'].idxmax().tolist()]"
   ]
  },
  {
   "cell_type": "code",
   "execution_count": null,
   "metadata": {},
   "outputs": [],
   "source": [
    "predict_data['label'].mean()"
   ]
  },
  {
   "cell_type": "code",
   "execution_count": null,
   "metadata": {},
   "outputs": [],
   "source": [
    "predict_data['label'].sum()"
   ]
  },
  {
   "cell_type": "code",
   "execution_count": null,
   "metadata": {},
   "outputs": [],
   "source": [
    "data['skill']"
   ]
  },
  {
   "cell_type": "code",
   "execution_count": null,
   "metadata": {},
   "outputs": [],
   "source": []
  },
  {
   "cell_type": "code",
   "execution_count": null,
   "metadata": {},
   "outputs": [],
   "source": []
  },
  {
   "cell_type": "code",
   "execution_count": null,
   "metadata": {},
   "outputs": [],
   "source": [
    "import dill as pickle\n",
    "\n",
    "with open('model.pkl', 'wb') as f:\n",
    "    pickle.dump(deepfm, f)"
   ]
  },
  {
   "cell_type": "code",
   "execution_count": null,
   "metadata": {},
   "outputs": [],
   "source": []
  },
  {
   "cell_type": "markdown",
   "metadata": {},
   "source": [
    "# Test"
   ]
  },
  {
   "cell_type": "code",
   "execution_count": null,
   "metadata": {},
   "outputs": [],
   "source": [
    "import dill as pickle\n",
    "with open('deepfm_model.pkl', 'rb') as f:\n",
    "    deepfm = pickle.load(f)"
   ]
  },
  {
   "cell_type": "code",
   "execution_count": null,
   "metadata": {},
   "outputs": [],
   "source": [
    "deepfm.test(\n",
    "    career_turn=0, # 이직 횟수\n",
    "    career_sum_period=10.0, # 총 재직 기간\n",
    "    certificate_name='컴퓨터활용능력1급', # 최근 취득 자격증\n",
    "    school_name='숙명여자대학교', # 학교명\n",
    "    school_major_name='통계학과', # 전공명 \n",
    "    school_major_state='전공', # ['전공', '부전공', '복수전공', '연합전공'] 중 하나\n",
    "    school_major_level='학사', # ['학사', '석사', '전문학사', '박사', '수료'] 중 하나\n",
    "    school_state='졸업', # ['졸업', '재학', '중퇴', '휴학', '교환학생', '수료']\n",
    "    skill='AI,Data Science,Machine Learning', # 본인 능력 , 연결로 입력\n",
    "    기타=None, # 언어 능력 ['중상급(업무상 원활한 의사소통)', '고급(자유자재의 의사소통)', '초급', '중급(업무상 의사소통 가능)', '원어민 수준']\n",
    "    독일어=None, \n",
    "    러시아어=None, \n",
    "    베트남어=None, \n",
    "    에스파냐어=None, \n",
    "    영어='중급(업무상 의사소통 가능)', \n",
    "    인도네시아어=None, \n",
    "    일본어=None, \n",
    "    중국어=None,\n",
    "    프랑스어=None, \n",
    "    accum_count=0, # 수상 개수\n",
    ")"
   ]
  },
  {
   "cell_type": "code",
   "execution_count": null,
   "metadata": {},
   "outputs": [],
   "source": []
  },
  {
   "cell_type": "markdown",
   "metadata": {},
   "source": [
    "# Lime"
   ]
  },
  {
   "cell_type": "code",
   "execution_count": null,
   "metadata": {},
   "outputs": [],
   "source": [
    "import lime\n",
    "import lime.lime_tabular"
   ]
  },
  {
   "cell_type": "code",
   "execution_count": null,
   "metadata": {},
   "outputs": [],
   "source": [
    "def to_np_data(deepfm, data, feature_names):\n",
    "    data = data.copy()\n",
    "    data = data.loc[:, feature_names].to_numpy()\n",
    "    categorical_features = range(len(feature_names))\n",
    "    \n",
    "    les = deepfm.multi_label_encoder._encoders\n",
    "\n",
    "    categorical_names = {}\n",
    "    for feature, idx in zip(feature_names, categorical_features):\n",
    "        le = les[feature]\n",
    "        data[:, idx] = deepfm.multi_label_encoder.uni_feature_transform(\n",
    "            data[:, idx], feature)\n",
    "        categorical_names[idx] = le.classes_\n",
    "    data = data.astype(float)\n",
    "    return data"
   ]
  },
  {
   "cell_type": "code",
   "execution_count": null,
   "metadata": {},
   "outputs": [],
   "source": [
    "data = to_np_data(deepfm, train_data, sparse_features)"
   ]
  },
  {
   "cell_type": "code",
   "execution_count": null,
   "metadata": {},
   "outputs": [],
   "source": [
    "explainer = lime.lime_tabular.LimeTabularExplainer(\n",
    "    data,\n",
    "    class_names=[0, 1],\n",
    "    feature_names = feature_names,\n",
    "    categorical_features=categorical_features, \n",
    "    categorical_names=categorical_names, \n",
    "    verbose=False,\n",
    "    mode='classification',\n",
    ")"
   ]
  },
  {
   "cell_type": "code",
   "execution_count": null,
   "metadata": {},
   "outputs": [],
   "source": []
  },
  {
   "cell_type": "code",
   "execution_count": null,
   "metadata": {},
   "outputs": [],
   "source": [
    "test = pd.DataFrame(\n",
    "    {'career_turn':[0],\n",
    "    'career_sum_period':[10.0],\n",
    "    'certificate_name':['컴퓨터활용능력,ADsP'],\n",
    "    'school_name':['아무대학교'],\n",
    "    'school_major_name':['통계학과'],\n",
    "    'school_major_state':['전공'],\n",
    "    'school_major_level':['학사'],\n",
    "    'school_state':['졸업'],\n",
    "    '기타':[None],\n",
    "    '독일어':[None], \n",
    "    '러시아어':[None], \n",
    "    '베트남어':[None], \n",
    "    '에스파냐어':[None], \n",
    "    '영어':['중급(업무상 의사소통 가능)'], \n",
    "    '인도네시아어':[None], \n",
    "    '일본어':[None], \n",
    "    '중국어':[None],\n",
    "    '프랑스어':[None], \n",
    "    'accum_count':[1],\n",
    "    'career_task':['연구원'],\n",
    "     'enterprise_size': ['대기업']\n",
    "    }, columns=feature_names)"
   ]
  },
  {
   "cell_type": "code",
   "execution_count": null,
   "metadata": {},
   "outputs": [],
   "source": [
    "test = to_np_data(deepfm, test, sparse_features)"
   ]
  },
  {
   "cell_type": "code",
   "execution_count": null,
   "metadata": {},
   "outputs": [],
   "source": []
  },
  {
   "cell_type": "code",
   "execution_count": null,
   "metadata": {},
   "outputs": [],
   "source": [
    "exp = explainer.explain_instance(\n",
    "    test[0], \n",
    "    deepfm.predict_encoded_data, \n",
    "    num_features=5,\n",
    "    labels=(0,),\n",
    ")\n",
    "a = exp.as_list(0)"
   ]
  },
  {
   "cell_type": "code",
   "execution_count": null,
   "metadata": {},
   "outputs": [],
   "source": [
    "a"
   ]
  },
  {
   "cell_type": "code",
   "execution_count": null,
   "metadata": {},
   "outputs": [],
   "source": []
  },
  {
   "cell_type": "code",
   "execution_count": null,
   "metadata": {},
   "outputs": [],
   "source": []
  }
 ],
 "metadata": {
  "kernelspec": {
   "display_name": "local",
   "language": "python",
   "name": "local"
  },
  "language_info": {
   "codemirror_mode": {
    "name": "ipython",
    "version": 3
   },
   "file_extension": ".py",
   "mimetype": "text/x-python",
   "name": "python",
   "nbconvert_exporter": "python",
   "pygments_lexer": "ipython3",
   "version": "3.7.4"
  }
 },
 "nbformat": 4,
 "nbformat_minor": 4
}
