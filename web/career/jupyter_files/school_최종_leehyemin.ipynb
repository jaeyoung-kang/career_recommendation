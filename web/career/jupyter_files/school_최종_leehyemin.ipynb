{
 "cells": [
  {
   "cell_type": "markdown",
   "metadata": {},
   "source": [
    "1. 대학교를 작성한 모든 리스트 앞에는 '학력'이 있음\n",
    "2. 단과 -> '대학' / 대학교 -> 00대학교"
   ]
  },
  {
   "cell_type": "code",
   "execution_count": null,
   "metadata": {},
   "outputs": [],
   "source": [
    "import pandas as pd\n",
    "import numpy as np\n",
    "import re\n",
    "import csv\n",
    "\n",
    "data = pd.read_csv('rocket.csv')\n",
    "\n",
    "def strip(series):\n",
    "    series = series.str.strip('\\r\\n\\s ')\n",
    "    return series\n",
    "\n",
    "\n",
    "def split(series):\n",
    "    series = series.str.split('\\r?\\n,?\\s+')  # 공백문자 제거\n",
    "    return series\n",
    "\n",
    "\n",
    "def basic(data):\n",
    "    data = data.drop(['Unnamed: 0', 'name'], axis=1)\n",
    "    data = data.drop_duplicates()\n",
    "    data = data[data.isna().sum(axis=1) < data.shape[1]]\n",
    "    data = data.fillna('')\n",
    "    data = data.reset_index(drop=True)\n",
    "    data['id'] = data.index\n",
    "    return data"
   ]
  },
  {
   "cell_type": "code",
   "execution_count": null,
   "metadata": {},
   "outputs": [],
   "source": [
    "#school 데이터에서 연도 뽑기 / 나머지 '' 처리\n",
    "data = basic(data)\n",
    "school = data['school']\n",
    "school = school.str.replace('학력','')\n",
    "school = strip(school)\n",
    "school = school.str.split('(\\n +){3,}')"
   ]
  },
  {
   "cell_type": "code",
   "execution_count": null,
   "metadata": {
    "scrolled": true
   },
   "outputs": [],
   "source": [
    "# 공백원소 제거\n",
    "for i in range(0,44227):\n",
    "    school[i] = list(filter(str.strip, school[i]))\n",
    "# 졸업, 휴학, 중퇴, 재학이 있는 학력만 남김\n",
    "for i in range(0,44227):\n",
    "    school[i] = [j for j in school[i] if (j.find(\"졸업\"))*(j.find(\"휴학\"))*(j.find(\"중퇴\"))*(j.find(\"재학\")) < 0]\n",
    "# 고등학교 학력 제거\n",
    "for i in range(0,44227):\n",
    "    school[i] = [j for j in school[i] if j.find(\"고등\") == -1]\n",
    "#프로젝트명에 \"졸업\"이 자주 들어감, 프로젝트 들어간 부분 제거\n",
    "for i in range(0,44227):\n",
    "    school[i] = [j for j in school[i] if j.find(\"젝트\") == -1]\n"
   ]
  },
  {
   "cell_type": "code",
   "execution_count": null,
   "metadata": {},
   "outputs": [],
   "source": [
    "notnull =[]\n",
    "#null 제거, 학력이 4개 이상인 47명 제외함\n",
    "for i in range(0,44227):\n",
    "    if((len(school[i]) > 0) & (len(school[i]) < 4)):\n",
    "        notnull.append(i)  \n",
    "len(notnull)"
   ]
  },
  {
   "cell_type": "code",
   "execution_count": null,
   "metadata": {},
   "outputs": [],
   "source": [
    "two = []\n",
    "for i in range(0,44227):\n",
    "    if ((len(school[i])) == 2):\n",
    "       two.append(i)  \n",
    "thr = []\n",
    "for i in range(0,44227):\n",
    "    if ((len(school[i])) == 3):\n",
    "       thr.append(i)  "
   ]
  },
  {
   "cell_type": "code",
   "execution_count": null,
   "metadata": {},
   "outputs": [],
   "source": [
    "df = pd.DataFrame(school[notnull])\n",
    "df1 = pd.DataFrame(df['school'].values.tolist(), columns = ['학력1','학력2','학력3'])\n",
    "\n",
    "#학력1\n",
    "df['학력1'] = df1['학력1'].tolist()\n",
    "df['학력1'] = df['학력1'].str.split(\"\\r?\\n\")\n",
    "df2 = pd.DataFrame(df['학력1'].values.tolist())\n",
    "df['학교1'] = df2[0].tolist()\n",
    "df['전공1'] = df2[1].tolist()\n",
    "df['재학기간1'] = df2[2].tolist()\n",
    "df = df.drop(df.columns[0:2], axis='columns')\n",
    "\n",
    "#학력2\n",
    "df['학력2'] = df1['학력2'].tolist()\n",
    "df['학력2'] = df['학력2'].str.split(\"\\r?\\n\")\n",
    "\n",
    "df3 = pd.DataFrame(data = df['학력2'][two].values.tolist(),index = two )\n",
    "df3 = df3.drop(df3.columns[3:], axis='columns')\n",
    "\n",
    "df3 = df3.rename(columns={df3.columns[0]:'학교2', df3.columns[1]: '전공2', df3.columns[2]:'재학기간2'})\n",
    "df5 = df.join(df3, how='left')\n",
    "\n",
    "#학력3\n",
    "df['학력3'] = df1['학력3'].tolist()\n",
    "df['학력3'] = df['학력3'].str.split(\"\\r?\\n\")\n",
    "\n",
    "df4 = pd.DataFrame(data = df['학력3'][thr].values.tolist(),index = thr )\n",
    "df4 = df4.drop(df4.columns[3:], axis='columns')\n",
    "df4 = df4.rename(columns={df4.columns[0]:'학교3', df4.columns[1]: '전공3', df4.columns[2]:'재학기간3'})\n",
    "\n",
    "dfinal = df5.join(df4, how = 'left')\n",
    "dfinal = dfinal.drop(dfinal.columns[3], axis='columns')\n",
    "dfinal\n",
    "\n",
    "dfinal['재학기간1-1']=dfinal['재학기간1'].str[8:13]\n",
    "\n",
    "dfinal['재학기간1-2']=dfinal['재학기간1'].str[16:21]\n",
    "\n",
    "dfinal['재학여부1']=dfinal['재학기간1'].str[22:26]\n",
    "\n",
    "dfinal['재학기간1-2'] = dfinal['재학기간1-2'].replace('[\\-]', '', regex=True)\n",
    "\n",
    "\n",
    "dfinal['재학기간2-1']=dfinal['재학기간2'].str[8:13]\n",
    "\n",
    "dfinal['재학기간2-2']=dfinal['재학기간2'].str[16:21]\n",
    "\n",
    "dfinal['재학여부2']=dfinal['재학기간2'].str[22:26]\n",
    "\n",
    "dfinal['재학기간2-2'] = dfinal['재학기간2-2'].replace('[\\-]', '', regex=True)\n",
    "\n",
    "\n",
    "dfinal['재학기간3-1']= dfinal['재학기간3'].str[8:13]\n",
    "\n",
    "dfinal['재학기간3-2']= dfinal['재학기간3'].str[16:21]\n",
    "\n",
    "dfinal['재학여부3']=dfinal['재학기간3'].str[22:26]\n",
    "\n",
    "dfinal['재학기간3-2'] = dfinal['재학기간3-2'].replace('[\\-]', '', regex=True)\n",
    "\n",
    "split_df = dfinal['전공1'].str.split('(\\ +)', expand=True)\n",
    "dfinal['전공1-학과']= split_df[2]\n",
    "dfinal['전공1-전공(학사)']= split_df[4]\n",
    "\n",
    "split_df = dfinal['전공2'].str.split('(\\ +)', expand=True)\n",
    "dfinal['전공2-학과']= split_df[2]\n",
    "dfinal['전공2-전공(학사)']= split_df[4]\n",
    "\n",
    "split_df = dfinal['전공3'].str.split('(\\ +)', expand=True)\n",
    "dfinal['전공3-학과']= split_df[2]\n",
    "dfinal['전공3-전공(학사)']= split_df[4]\n",
    "\n",
    "\n",
    "\n",
    "dfinal = dfinal.drop(dfinal.columns[1:3], axis='columns')\n",
    "dfinal = dfinal.drop(dfinal.columns[2:4], axis='columns')\n",
    "dfinal = dfinal.drop(dfinal.columns[3:5], axis='columns')\n",
    "dfinal"
   ]
  },
  {
   "cell_type": "code",
   "execution_count": null,
   "metadata": {},
   "outputs": [],
   "source": []
  }
 ],
 "metadata": {
  "kernelspec": {
   "display_name": "Python 3",
   "language": "python",
   "name": "python3"
  },
  "language_info": {
   "codemirror_mode": {
    "name": "ipython",
    "version": 3
   },
   "file_extension": ".py",
   "mimetype": "text/x-python",
   "name": "python",
   "nbconvert_exporter": "python",
   "pygments_lexer": "ipython3",
   "version": "3.7.4"
  }
 },
 "nbformat": 4,
 "nbformat_minor": 4
}
