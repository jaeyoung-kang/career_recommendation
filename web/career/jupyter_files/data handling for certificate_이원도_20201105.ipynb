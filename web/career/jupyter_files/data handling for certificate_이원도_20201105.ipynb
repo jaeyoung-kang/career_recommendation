{
 "cells": [
  {
   "cell_type": "code",
   "execution_count": null,
   "metadata": {},
   "outputs": [],
   "source": [
    "# Load pandas\n",
    "import pandas as pd\n",
    "\n",
    "# Read CSV file into DataFrame df\n",
    "df = pd.read_csv('rocket.csv', index_col=0)\n",
    "df['index'] = df.index \n",
    "\n",
    "# Show dataframe\n",
    "print(df)"
   ]
  },
  {
   "cell_type": "code",
   "execution_count": null,
   "metadata": {},
   "outputs": [],
   "source": [
    "certificate = df[['index', 'certificate']]"
   ]
  },
  {
   "cell_type": "code",
   "execution_count": null,
   "metadata": {},
   "outputs": [],
   "source": [
    "certificate"
   ]
  },
  {
   "cell_type": "code",
   "execution_count": null,
   "metadata": {},
   "outputs": [],
   "source": [
    "import math\n",
    "\n",
    "nan_index = []\n",
    "val_index = []\n",
    "for i in range(0, 78135):\n",
    "    if type(certificate['certificate'][i]) != str:\n",
    "        nan_index.append(i)\n",
    "    else:\n",
    "        val_index.append(i)"
   ]
  },
  {
   "cell_type": "code",
   "execution_count": null,
   "metadata": {},
   "outputs": [],
   "source": [
    "val_index"
   ]
  },
  {
   "cell_type": "code",
   "execution_count": null,
   "metadata": {},
   "outputs": [],
   "source": [
    "cert_val_index = certificate['index'][val_index]\n",
    "cert_val_cert = certificate['certificate'][certificate['index'][val_index]]"
   ]
  },
  {
   "cell_type": "code",
   "execution_count": null,
   "metadata": {},
   "outputs": [],
   "source": [
    "cert_val = pd.concat([cert_val_index, cert_val_cert], axis=1)"
   ]
  },
  {
   "cell_type": "code",
   "execution_count": null,
   "metadata": {},
   "outputs": [],
   "source": [
    "cert_val"
   ]
  },
  {
   "cell_type": "code",
   "execution_count": null,
   "metadata": {},
   "outputs": [],
   "source": [
    "for i in cert_val['index']:\n",
    "    tmp = cert_val['certificate'][i]\n",
    "    tmp2 = tmp.replace(\"\\r\\n\", \"\\n\")\n",
    "    cert_val['certificate'][i] = tmp2"
   ]
  },
  {
   "cell_type": "code",
   "execution_count": null,
   "metadata": {},
   "outputs": [],
   "source": [
    "cert_val"
   ]
  },
  {
   "cell_type": "code",
   "execution_count": null,
   "metadata": {},
   "outputs": [],
   "source": [
    "cert_val2 = cert_val.copy()"
   ]
  },
  {
   "cell_type": "code",
   "execution_count": null,
   "metadata": {},
   "outputs": [],
   "source": [
    "cert_val2"
   ]
  },
  {
   "cell_type": "code",
   "execution_count": null,
   "metadata": {},
   "outputs": [],
   "source": [
    "for i in cert_val2['index']:\n",
    "    tmp = cert_val2['certificate'][i]\n",
    "    tmp2 = tmp.replace(\" \", '')\n",
    "    cert_val2['certificate'][i] = tmp2"
   ]
  },
  {
   "cell_type": "code",
   "execution_count": null,
   "metadata": {},
   "outputs": [],
   "source": [
    "cert_val2"
   ]
  },
  {
   "cell_type": "code",
   "execution_count": null,
   "metadata": {},
   "outputs": [],
   "source": [
    "for i in cert_val2['index']:\n",
    "    tmp = cert_val2['certificate'][i]\n",
    "    tmp2 = tmp.replace(\"자격증\\n\\n\\n\", '')\n",
    "    cert_val2['certificate'][i] = tmp2"
   ]
  },
  {
   "cell_type": "code",
   "execution_count": null,
   "metadata": {},
   "outputs": [],
   "source": [
    "cert_val2"
   ]
  },
  {
   "cell_type": "code",
   "execution_count": null,
   "metadata": {},
   "outputs": [],
   "source": [
    "# Example\n",
    "tmp = cert_val2['certificate'][78119]"
   ]
  },
  {
   "cell_type": "code",
   "execution_count": null,
   "metadata": {
    "scrolled": true
   },
   "outputs": [],
   "source": [
    "tmp.split('\\n\\n\\n\\n\\n\\n')"
   ]
  },
  {
   "cell_type": "code",
   "execution_count": null,
   "metadata": {},
   "outputs": [],
   "source": [
    "new_df = pd.DataFrame(columns=['index', 'cert1', 'cert2', 'cert3', 'cert4'])"
   ]
  },
  {
   "cell_type": "code",
   "execution_count": null,
   "metadata": {},
   "outputs": [],
   "source": [
    "len_list = []\n",
    "for i in cert_val2['index']:\n",
    "    tmp = cert_val2['certificate'][i]\n",
    "    tmp2 = tmp.split('\\n\\n\\n\\n')\n",
    "    length = len(tmp2)\n",
    "    for single_cert in tmp2:\n",
    "        tmp3 = single_cert.replace('\\n', ' ')\n",
    "        result = tmp3.split(' ')\n",
    "        new_result = [item for item in result if item != '']\n",
    "        k = len(new_result)\n",
    "        if k == 1:\n",
    "            final_result = [i] + new_result + ['dummy'] + ['dummy'] + ['dummy']\n",
    "            new_df = new_df.append({'index' : final_result[0],\n",
    "                                   'cert1' : final_result[1],\n",
    "                                   'cert2' : final_result[2],\n",
    "                                   'cert3' : final_result[3],\n",
    "                                   'cert4' : final_result[4]}, ignore_index = True)\n",
    "        elif k == 2:\n",
    "            final_result = [i] + new_result + ['dummy'] + ['dummy']\n",
    "            new_df = new_df.append({'index' : final_result[0],\n",
    "                                   'cert1' : final_result[1],\n",
    "                                   'cert2' : final_result[2],\n",
    "                                   'cert3' : final_result[3],\n",
    "                                   'cert4' : final_result[4]}, ignore_index = True)\n",
    "        elif k == 3:\n",
    "            final_result = [i] + new_result + ['dummy']\n",
    "            new_df = new_df.append({'index' : final_result[0],\n",
    "                                   'cert1' : final_result[1],\n",
    "                                   'cert2' : final_result[2],\n",
    "                                   'cert3' : final_result[3],\n",
    "                                   'cert4' : final_result[4]}, ignore_index = True)            \n",
    "        elif k >= 4:\n",
    "            final_result = [i] + new_result[0:3]\n",
    "            final_result.append('-'.join(new_result[3:]))\n",
    "            new_df = new_df.append({'index' : final_result[0],\n",
    "                                   'cert1' : final_result[1],\n",
    "                                   'cert2' : final_result[2],\n",
    "                                   'cert3' : final_result[3],\n",
    "                                   'cert4' : final_result[4]}, ignore_index = True)\n",
    "        print(final_result)\n"
   ]
  },
  {
   "cell_type": "code",
   "execution_count": null,
   "metadata": {},
   "outputs": [],
   "source": [
    "new_df"
   ]
  }
 ],
 "metadata": {
  "kernelspec": {
   "display_name": "Python 3",
   "language": "python",
   "name": "python3"
  },
  "language_info": {
   "codemirror_mode": {
    "name": "ipython",
    "version": 3
   },
   "file_extension": ".py",
   "mimetype": "text/x-python",
   "name": "python",
   "nbconvert_exporter": "python",
   "pygments_lexer": "ipython3",
   "version": "3.7.4"
  }
 },
 "nbformat": 4,
 "nbformat_minor": 4
}
