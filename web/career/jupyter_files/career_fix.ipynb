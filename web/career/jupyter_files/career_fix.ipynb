{
 "cells": [
  {
   "cell_type": "code",
   "execution_count": null,
   "metadata": {},
   "outputs": [],
   "source": [
    "import numpy as np\n",
    "import pandas as pd\n",
    "import matplotlib.pyplot as plt"
   ]
  },
  {
   "cell_type": "code",
   "execution_count": null,
   "metadata": {},
   "outputs": [],
   "source": [
    "df = pd.read_csv('rocket.csv')\n",
    "df.head() # Merge 한 원본데이터 가져오기"
   ]
  },
  {
   "cell_type": "code",
   "execution_count": null,
   "metadata": {},
   "outputs": [],
   "source": [
    "df = df.drop(['school','project','language','award','certificate'],axis=1) # 다른 전처리요소는 제거하기"
   ]
  },
  {
   "cell_type": "code",
   "execution_count": null,
   "metadata": {},
   "outputs": [],
   "source": [
    "df = df.dropna()\n",
    "df= df.reset_index(drop=True) # 경력이 없는 사람은 제거하고, Index 재정렬"
   ]
  },
  {
   "cell_type": "code",
   "execution_count": null,
   "metadata": {},
   "outputs": [],
   "source": [
    "data = pd.DataFrame(columns=['career'])\n",
    "for k in range(len(df['career'])):\n",
    "    cr = list(map(lambda x : x.replace(' ',''), df['career'][k].split('\\n')))  # \\n을 기준으로 나누자 !\n",
    "    crd= []\n",
    "    for i in range(2,len(cr)):\n",
    "        if len(cr[i]) > 0:\n",
    "            crd.append(cr[i])\n",
    "    cd = pd.DataFrame(crd,columns=['career'])\n",
    "    if  0 not in cd[cd['career'].str.contains('년','월',na=False)].index: # 회사랑 시간뽑아내자 ! \n",
    "        cdd = cd.loc[cd[cd['career'].str.contains('년','월',na=False)].index-1] # 회사인덱스\n",
    "        cddd = cd.loc[cd[cd['career'].str.contains('년','월',na=False)].index] # 시간인덱스\n",
    "        cddd.columns=['time']\n",
    "        unna = pd.DataFrame(np.full((len(cd.loc[cd[cd['career'].str.contains('년','월',na=False)].index-1]), 1), df['Unnamed: 0'][k]),columns=['Unnamed: 0'])\n",
    "        cd = pd.concat([cdd.reset_index(drop=True),unna,cddd.reset_index(drop=True)],axis=1)\n",
    "        d =pd.DataFrame(sorted(list(cd.index),reverse=True),columns=['turnover']) # 이건 원래 이직횟수 고려하려고 넣은건데, 잘못된 데이터까지 회사로 고려해버려서 나중에 다시 구함 !\n",
    "        cd = pd.concat([cd,d],axis=1)\n",
    "        data = data.append(cd)\n",
    "    else :\n",
    "        print(k)\n",
    "    \n",
    "data.columns = ['career','ID','time','turnover']"
   ]
  },
  {
   "cell_type": "code",
   "execution_count": null,
   "metadata": {},
   "outputs": [],
   "source": [
    "data.head()"
   ]
  },
  {
   "cell_type": "code",
   "execution_count": null,
   "metadata": {},
   "outputs": [],
   "source": [
    "# 데이터에서 특수문자들 제거하기\n",
    "data =data.reset_index(drop=True)\n",
    "data['career'] = pd.DataFrame(map(lambda x : x.replace('\\r',''),data['career']))\n",
    "data['time']=pd.DataFrame(map(lambda x : x.replace('\\r',''),data['time']))\n",
    "data['career'] =pd.DataFrame(map(lambda x : x.replace('=-',''),data['career']))"
   ]
  },
  {
   "cell_type": "code",
   "execution_count": null,
   "metadata": {},
   "outputs": [],
   "source": [
    "# time을 2020년6월-현재\t4개월 이렇게 언제부터언제까지 근무했는지랑 얼마나 근무했는지로 나누자\n",
    "data = pd.concat([data,pd.DataFrame(map(lambda x : x.split('|'),data['time']))],axis=1)"
   ]
  },
  {
   "cell_type": "code",
   "execution_count": null,
   "metadata": {},
   "outputs": [],
   "source": [
    "data.head()"
   ]
  },
  {
   "cell_type": "code",
   "execution_count": null,
   "metadata": {},
   "outputs": [],
   "source": [
    "data.columns= ['ID','career','time_2','turnover','time','period']"
   ]
  },
  {
   "cell_type": "code",
   "execution_count": null,
   "metadata": {},
   "outputs": [],
   "source": [
    "# career 에서 len이 지나치게 긴것들을 제거했음 (60을 기준으로) 실제 확인해보니까 4개 빼고 전부다 이상치\n",
    "idx = []\n",
    "check =[]\n",
    "for k in range(len(data['career'])):\n",
    "    if type(data['career'][k]) == str:\n",
    "        if len(data['career'][k]) >60:\n",
    "            idx.append(k)\n",
    "    else:\n",
    "        check.append(k)"
   ]
  },
  {
   "cell_type": "code",
   "execution_count": null,
   "metadata": {},
   "outputs": [],
   "source": [
    "# check가 이상치임 눈으로 확인해보라구 이상치 인덱스를 check로 따로 담음\n",
    "data = data.drop(check)\n",
    "data"
   ]
  },
  {
   "cell_type": "code",
   "execution_count": null,
   "metadata": {},
   "outputs": [],
   "source": [
    "data.reset_index(drop=True,inplace=True)"
   ]
  },
  {
   "cell_type": "code",
   "execution_count": null,
   "metadata": {},
   "outputs": [],
   "source": [
    "# len 18을 기준으로 time 이상치 제거했음 ( 이것또한 check에 담아서 눈으로 확인할수있게 함 )\n",
    "idx = []\n",
    "check= []\n",
    "for k in range(len(data['time'])):\n",
    "    if type(data['time'][k]) == str:\n",
    "        if len(data['time'][k]) >18:\n",
    "            idx.append(k)\n",
    "    else:\n",
    "        print(k)\n",
    "        check.append(k)"
   ]
  },
  {
   "cell_type": "code",
   "execution_count": null,
   "metadata": {},
   "outputs": [],
   "source": [
    "data = data.drop(idx).reset_index(drop=True)\n",
    "data"
   ]
  },
  {
   "cell_type": "code",
   "execution_count": null,
   "metadata": {},
   "outputs": [],
   "source": [
    "# period에 개월이 없는게 은근 있다 (재직중) 인듯\n",
    "data = data.dropna(subset=['period']) # period에 결측치 있는거 삭제(3000개)\n",
    "data"
   ]
  },
  {
   "cell_type": "code",
   "execution_count": null,
   "metadata": {},
   "outputs": [],
   "source": [
    "import datetime as dt"
   ]
  },
  {
   "cell_type": "code",
   "execution_count": null,
   "metadata": {},
   "outputs": [],
   "source": [
    "# 이제 datetime으로 바꾸기 위해서 '-' 을 기준으로 시작날짜 끝날짜 만들자\n",
    "aa = pd.DataFrame(map(lambda x : x.split('-'),data['time']))\n",
    "aa.columns= ['start','end']\n",
    "aa"
   ]
  },
  {
   "cell_type": "code",
   "execution_count": null,
   "metadata": {},
   "outputs": [],
   "source": [
    "# datetime 형식에 맞게 replace\n",
    "aa['start'] =pd.DataFrame(map(lambda x: x.replace('년','-'),aa['start']))\n",
    "aa['start'] =pd.DataFrame(map(lambda x: x.replace('월','-01'),aa['start']))\n",
    "aa['start']"
   ]
  },
  {
   "cell_type": "code",
   "execution_count": null,
   "metadata": {},
   "outputs": [],
   "source": [
    "# datetime에서  len < 9보다 크면 이상치로 간주했음 ! 근데 없었음 ! 이미 이전에 많이 제거해서 필요없는듯 ~!\n",
    "idx = []\n",
    "check= []\n",
    "for k in range(len(aa['start'])):\n",
    "    if type(aa['start'][k]) == str:\n",
    "        if len(aa['start'][k]) <9:\n",
    "            idx.append(k)\n",
    "    else:\n",
    "        print(k)\n",
    "        check.append(k)"
   ]
  },
  {
   "cell_type": "code",
   "execution_count": null,
   "metadata": {},
   "outputs": [],
   "source": [
    "aa = aa.drop(idx).reset_index(drop=True)\n",
    "aa"
   ]
  },
  {
   "cell_type": "code",
   "execution_count": null,
   "metadata": {},
   "outputs": [],
   "source": [
    "# datetime으로 바꿨음 ~!\n",
    "st =pd.DataFrame(map(lambda x : dt.datetime.strptime(x,'%Y-%m-%d'),aa['start']))\n",
    "st.head()"
   ]
  },
  {
   "cell_type": "code",
   "execution_count": null,
   "metadata": {},
   "outputs": [],
   "source": [
    "# 끝나는 날도 똑같이 ~! 현재는 10월 1일로 했는데 수정가능함\n",
    "aa['end'] =pd.DataFrame(map(lambda x: x.replace('년','-'),aa['end']))\n",
    "aa['end'] =pd.DataFrame(map(lambda x: x.replace('월','-01'),aa['end']))\n",
    "aa['end'] =pd.DataFrame(map(lambda x: x.replace('현재','2020-10-01'),aa['end']))\n",
    "aa['end']"
   ]
  },
  {
   "cell_type": "code",
   "execution_count": null,
   "metadata": {},
   "outputs": [],
   "source": [
    "ed=pd.DataFrame(map(lambda x : dt.datetime.strptime(x,'%Y-%m-%d'),aa['end']))\n",
    "ed.head()"
   ]
  },
  {
   "cell_type": "code",
   "execution_count": null,
   "metadata": {},
   "outputs": [],
   "source": [
    "time =pd.concat([st,ed],axis=1)\n",
    "time.columns = ['start','end']\n",
    "time"
   ]
  },
  {
   "cell_type": "code",
   "execution_count": null,
   "metadata": {},
   "outputs": [],
   "source": [
    "# 그리고 다시 datetime으로 바꾼걸 데이터프레임에 붙여줍니다\n",
    "data_3 =pd.concat([data.drop(idx).reset_index(drop=True),time],axis=1)\n",
    "data_3.head()"
   ]
  },
  {
   "cell_type": "code",
   "execution_count": null,
   "metadata": {},
   "outputs": [],
   "source": [
    "# 이제 필요없게된 time 제거\n",
    "data_3=data_3.drop(['time_2','time'],axis=1)\n",
    "data_3.head()"
   ]
  },
  {
   "cell_type": "code",
   "execution_count": null,
   "metadata": {},
   "outputs": [],
   "source": [
    " # period를 전부다 개월수로 변환하자\n",
    "bb = data_3[['period','ID']]\n",
    "bb['period']=pd.DataFrame(map(lambda x: x.replace('-',''),bb['period']))\n",
    "bb.columns=['period','ID']\n",
    "bb"
   ]
  },
  {
   "cell_type": "code",
   "execution_count": null,
   "metadata": {},
   "outputs": [],
   "source": [
    "# 왜 개월이랑 개월 아닌걸로 나누냐면 그냥 1년 이렇게 되어있는 데이터를 구분하려고 ! 왜 구분하냐면 아래에서 쓸 eval 함수 때문에 ! 개월수가 있는건 *12+ 하고\n",
    "# 없으면 *12 만 함 ! \n",
    "idx =bb[bb['period'].str.contains('개월',na=False)].index\n",
    "idx2 = bb[~bb['period'].str.contains('개월',na=False)].index\n",
    "len(idx)+len(idx2)"
   ]
  },
  {
   "cell_type": "code",
   "execution_count": null,
   "metadata": {},
   "outputs": [],
   "source": [
    "for i in range(len(bb['period'])):\n",
    "    if i in idx:\n",
    "        bb['period'][i] =bb['period'][i].replace('년','*12+')\n",
    "    else :\n",
    "        bb['period'][i] =bb['period'][i].replace('년','*12')\n",
    "bb['period']=pd.DataFrame(map(lambda x: x.replace('개월',''),bb['period']))\n",
    "bb['period']=pd.DataFrame(map(lambda x: eval(x),bb['period']))\n",
    "bb"
   ]
  },
  {
   "cell_type": "code",
   "execution_count": null,
   "metadata": {},
   "outputs": [],
   "source": [
    "data_4 = pd.concat([data_3.reset_index(drop=True),bb.drop(['ID'],axis=1)],axis=1)\n",
    "data_4"
   ]
  },
  {
   "cell_type": "code",
   "execution_count": null,
   "metadata": {},
   "outputs": [],
   "source": [
    "# turn(이직횟수) 구하는 과정 ! ID로 인덱싱해서 뽑은다음에 거꾸로 정렬해서 그걸 변수로 뽑기\n",
    "id =data_4['ID'].unique()\n",
    "b= pd.DataFrame(columns = ['ID', 'career', 'turnover', 'period', 'start', 'end', 'period', 'turn'])\n",
    "for i in id:\n",
    "    a = pd.concat([data_4[data_4['ID'] == i].sort_values(by='start',ascending=True).reset_index(drop=True),pd.DataFrame(data_4[data_4['ID'] == i].sort_values(by='start',ascending=True).reset_index(drop=True).index,columns=['turn'])],axis=1)\n",
    "    b = b.append(a)\n",
    "b"
   ]
  },
  {
   "cell_type": "code",
   "execution_count": null,
   "metadata": {},
   "outputs": [],
   "source": [
    "# 필요없게된 period2랑 turnover 제거 !\n",
    "data_4 = b\n",
    "data_4.columns = ['ID', 'career', 'turnover', 'period2', 'start', 'end', 'period', 'turn']\n",
    "data_4 = data_4.drop(['turnover','period2'],axis=1)\n",
    "data_4 = data_4.reset_index(drop=True)\n",
    "data_4"
   ]
  },
  {
   "cell_type": "code",
   "execution_count": null,
   "metadata": {},
   "outputs": [],
   "source": [
    "data_4['period'].unique()"
   ]
  },
  {
   "cell_type": "code",
   "execution_count": null,
   "metadata": {},
   "outputs": [],
   "source": [
    "data_4['sum_peri']=0"
   ]
  },
  {
   "cell_type": "code",
   "execution_count": null,
   "metadata": {},
   "outputs": [],
   "source": [
    "# 누적근무기간 구하기\n",
    "data_4['period'] = pd.to_numeric(data_4['period'])\n",
    "data_4['sum_peri'] = data_4.groupby('ID')['period'].cumsum()"
   ]
  },
  {
   "cell_type": "code",
   "execution_count": null,
   "metadata": {},
   "outputs": [],
   "source": [
    "data_4"
   ]
  },
  {
   "cell_type": "code",
   "execution_count": null,
   "metadata": {},
   "outputs": [],
   "source": [
    "data_4.to_csv('data_new.csv')"
   ]
  },
  {
   "cell_type": "code",
   "execution_count": null,
   "metadata": {},
   "outputs": [],
   "source": []
  }
 ],
 "metadata": {
  "kernelspec": {
   "display_name": "Python 3",
   "language": "python",
   "name": "python3"
  },
  "language_info": {
   "codemirror_mode": {
    "name": "ipython",
    "version": 3
   },
   "file_extension": ".py",
   "mimetype": "text/x-python",
   "name": "python",
   "nbconvert_exporter": "python",
   "pygments_lexer": "ipython3",
   "version": "3.7.4"
  }
 },
 "nbformat": 4,
 "nbformat_minor": 4
}
