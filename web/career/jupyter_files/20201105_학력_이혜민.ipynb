{
 "cells": [
  {
   "cell_type": "code",
   "execution_count": null,
   "metadata": {
    "id": "kEEXI67EVhDQ"
   },
   "outputs": [],
   "source": [
    "import re\n",
    "import pandas as pd\n",
    "import csv"
   ]
  },
  {
   "cell_type": "code",
   "execution_count": null,
   "metadata": {
    "id": "rFgLZhocV-6l"
   },
   "outputs": [],
   "source": [
    "data = pd.read_csv('rocket.csv')"
   ]
  },
  {
   "cell_type": "code",
   "execution_count": null,
   "metadata": {},
   "outputs": [],
   "source": [
    "data['school']"
   ]
  },
  {
   "cell_type": "code",
   "execution_count": null,
   "metadata": {
    "id": "3z04zSRZWAWV"
   },
   "outputs": [],
   "source": [
    "data = data.fillna('') # nan이 float이라 str로 대체"
   ]
  },
  {
   "cell_type": "code",
   "execution_count": null,
   "metadata": {
    "colab": {
     "base_uri": "https://localhost:8080/",
     "height": 142
    },
    "id": "y8uAXoXCWKDk",
    "outputId": "bac04587-0959-4834-e4dc-e80a4b45509b"
   },
   "outputs": [],
   "source": [
    "max(list(data['school']), key=len) # 가장 긴 문자열"
   ]
  },
  {
   "cell_type": "code",
   "execution_count": null,
   "metadata": {
    "id": "uOFaoQdgWd3j"
   },
   "outputs": [],
   "source": [
    "data['school'] = data['school'].str.split('\\r?\\n\\s+') # 공백문자 제거"
   ]
  },
  {
   "cell_type": "code",
   "execution_count": null,
   "metadata": {
    "colab": {
     "base_uri": "https://localhost:8080/"
    },
    "id": "JZsSEkrBWi0_",
    "outputId": "3a09b4d7-072f-421b-eb3d-5669ca217ea3"
   },
   "outputs": [],
   "source": [
    "list(data['school'])"
   ]
  },
  {
   "cell_type": "code",
   "execution_count": null,
   "metadata": {
    "id": "5ySd9tiSWocR"
   },
   "outputs": [],
   "source": [
    "for i in range(len(data['school'])):\n",
    "    if data['school'].iloc[i] != []:\n",
    "        data['school'].iloc[i].pop(0) # 맨 앞 '학력' 지우기"
   ]
  },
  {
   "cell_type": "code",
   "execution_count": null,
   "metadata": {
    "colab": {
     "base_uri": "https://localhost:8080/"
    },
    "id": "zDX58uumXAFZ",
    "outputId": "9757f706-796a-4fd3-b054-7ca8f708ac95"
   },
   "outputs": [],
   "source": [
    "max(list(data['school']), key=len)"
   ]
  },
  {
   "cell_type": "code",
   "execution_count": null,
   "metadata": {
    "colab": {
     "base_uri": "https://localhost:8080/"
    },
    "id": "W_Lo5RyRXGky",
    "outputId": "00f2ff59-1bf6-40fa-94aa-08870a72939f"
   },
   "outputs": [],
   "source": [
    "school = data['school']\n",
    "school"
   ]
  },
  {
   "cell_type": "code",
   "execution_count": null,
   "metadata": {
    "id": "Ssl9jyeqZN0W"
   },
   "outputs": [],
   "source": []
  }
 ],
 "metadata": {
  "colab": {
   "name": "Untitled0.ipynb",
   "provenance": []
  },
  "hide_input": false,
  "kernelspec": {
   "display_name": "Python 3",
   "language": "python",
   "name": "python3"
  },
  "language_info": {
   "codemirror_mode": {
    "name": "ipython",
    "version": 3
   },
   "file_extension": ".py",
   "mimetype": "text/x-python",
   "name": "python",
   "nbconvert_exporter": "python",
   "pygments_lexer": "ipython3",
   "version": "3.7.4"
  }
 },
 "nbformat": 4,
 "nbformat_minor": 1
}
